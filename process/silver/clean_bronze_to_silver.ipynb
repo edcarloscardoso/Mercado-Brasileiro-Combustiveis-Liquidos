{
 "cells": [
  {
   "cell_type": "code",
   "execution_count": 10,
   "id": "420a0068",
   "metadata": {},
   "outputs": [],
   "source": [
    "import os\n",
    "from pyspark.sql import SparkSession\n",
    "from pyspark.sql.functions import col, to_date, when"
   ]
  },
  {
   "cell_type": "code",
   "execution_count": 11,
   "id": "5f60b5b2",
   "metadata": {},
   "outputs": [],
   "source": [
    "spark = SparkSession.builder \\\n",
    "    .appName(\"BronzeToSilver\") \\\n",
    "    .getOrCreate()"
   ]
  },
  {
   "cell_type": "code",
   "execution_count": 12,
   "id": "b93e24a7",
   "metadata": {},
   "outputs": [],
   "source": [
    "bronze_path = \"../../datalake/bronze\"\n",
    "silver_path = \"../../datalake/silver\""
   ]
  },
  {
   "cell_type": "code",
   "execution_count": 14,
   "id": "0809a15b",
   "metadata": {},
   "outputs": [],
   "source": [
    "class datacleaner:\n",
    "    @staticmethod\n",
    "    def limpeza_basica(df):\n",
    "        df = df.dropDuplicates()\n",
    "        df = df.na.drop(how='all')\n",
    "        for col_name in df.columns:\n",
    "            if \"data\" in col_name or \"mes\" in col_name:\n",
    "                df = df.withColumn(col_name,\n",
    "                    when(col(col_name).rlike(r'^\\d{4}-\\d{2}-\\d{2}$'), to_date(col(col_name), 'yyyy-MM-dd'))\n",
    "                    .otherwise(None))\n",
    "        return df\n"
   ]
  },
  {
   "cell_type": "code",
   "execution_count": 15,
   "id": "47f1f9cc",
   "metadata": {},
   "outputs": [
    {
     "name": "stderr",
     "output_type": "stream",
     "text": [
      "25/06/17 18:24:52 WARN MemoryManager: Total allocation exceeds 95.00% (1,020,054,720 bytes) of heap memory\n",
      "Scaling row group sizes to 95.00% for 8 writers\n",
      "25/06/17 18:24:55 WARN MemoryManager: Total allocation exceeds 95.00% (1,020,054,720 bytes) of heap memory\n",
      "Scaling row group sizes to 95.00% for 8 writers\n",
      "25/06/17 18:24:57 WARN MemoryManager: Total allocation exceeds 95.00% (1,020,054,720 bytes) of heap memory\n",
      "Scaling row group sizes to 95.00% for 8 writers\n",
      "                                                                                \r"
     ]
    }
   ],
   "source": [
    "for nome_arquivo in os.listdir(bronze_path):\n",
    "    caminho = os.path.join(bronze_path, nome_arquivo)\n",
    "    df = spark.read.parquet(caminho)\n",
    "\n",
    "    df = datacleaner.limpeza_basica(df)\n",
    "\n",
    "    destino_silver = os.path.join(silver_path, nome_arquivo)\n",
    "    df.write.mode(\"overwrite\").parquet(destino_silver)\n"
   ]
  }
 ],
 "metadata": {
  "kernelspec": {
   "display_name": ".venv",
   "language": "python",
   "name": "python3"
  },
  "language_info": {
   "codemirror_mode": {
    "name": "ipython",
    "version": 3
   },
   "file_extension": ".py",
   "mimetype": "text/x-python",
   "name": "python",
   "nbconvert_exporter": "python",
   "pygments_lexer": "ipython3",
   "version": "3.12.3"
  }
 },
 "nbformat": 4,
 "nbformat_minor": 5
}
