{
 "cells": [
  {
   "cell_type": "markdown",
   "id": "a4310e04",
   "metadata": {},
   "source": [
    "Tendências de Consumo de Combustíveis por tipo e por ano"
   ]
  },
  {
   "cell_type": "code",
   "execution_count": 5,
   "id": "5e553f82",
   "metadata": {},
   "outputs": [],
   "source": [
    "from pyspark.sql import SparkSession\n",
    "from pyspark.sql.functions import regexp_replace, sum, col\n",
    "\n",
    "spark = SparkSession.builder \\\n",
    "    .appName(\"ANP Combustíveis Líquidos\") \\\n",
    "    .getOrCreate()"
   ]
  },
  {
   "cell_type": "code",
   "execution_count": null,
   "id": "7c77376d",
   "metadata": {},
   "outputs": [],
   "source": [
    "df_vendas_atual = spark.read.parquet(\"../../datalake/silver/Liquidos_Vendas_Atual\")"
   ]
  },
  {
   "cell_type": "code",
   "execution_count": null,
   "id": "8840e053",
   "metadata": {},
   "outputs": [
    {
     "name": "stderr",
     "output_type": "stream",
     "text": [
      "[Stage 3:>                                                          (0 + 8) / 8]\r"
     ]
    },
    {
     "name": "stdout",
     "output_type": "stream",
     "text": [
      "+----+----------------+---------------------+\n",
      "| ano| nome_do_produto|volume_total_(mil_m3)|\n",
      "+----+----------------+---------------------+\n",
      "|2017|        Diesel B|   54759.359812000635|\n",
      "|2017|      Gasolina C|   44156.214131000306|\n",
      "|2017|Etanol Hidratado|    13657.16730400005|\n",
      "|2017|      Óleo Comb.|   3380.8778530000004|\n",
      "|2018|      Gasolina C|   38384.320629000285|\n",
      "|2018|Etanol Hidratado|    19400.52250100006|\n",
      "|2018|      Óleo Comb.|          2312.568761|\n",
      "|2018|        Diesel B|    55652.50517000063|\n",
      "|2019|      Gasolina C|    38166.35208400028|\n",
      "|2019|      Óleo Comb.|   1890.6110630000003|\n",
      "|2019|        Diesel B|   57304.043884000566|\n",
      "|2019|Etanol Hidratado|   22545.786087000088|\n",
      "|2020|      Gasolina C|     35823.4258580003|\n",
      "|2020|      Óleo Comb.|          2019.188482|\n",
      "|2020|        Diesel B|    57469.00485300072|\n",
      "|2020|Etanol Hidratado|    19258.63851300007|\n",
      "|2021|Etanol Hidratado|    16792.04809300005|\n",
      "|2021|        Diesel B|    62091.53277900068|\n",
      "|2021|      Gasolina C|   39315.581122000294|\n",
      "|2021|      Óleo Comb.|   3389.7238769999994|\n",
      "+----+----------------+---------------------+\n",
      "only showing top 20 rows\n"
     ]
    },
    {
     "name": "stderr",
     "output_type": "stream",
     "text": [
      "                                                                                \r"
     ]
    }
   ],
   "source": [
    "df_vendas_atual = df_vendas_atual.withColumn(\n",
    "    \"quantidade_de_produto_(mil_m3)\",\n",
    "    regexp_replace(col(\"quantidade_de_produto_(mil_m3)\"), \",\", \".\").cast(\"double\")\n",
    ")\n",
    "df_agrupado = df_vendas_atual.groupBy(\"ano\", \"nome_do_produto\") \\\n",
    "    .agg(sum(\"quantidade_de_produto_(mil_m3)\").alias(\"volume_total_(mil_m3)\")) \\\n",
    "    .orderBy(\"ano\")\n",
    "\n",
    "df_agrupado.show()"
   ]
  },
  {
   "cell_type": "code",
   "execution_count": 7,
   "id": "8351f26b",
   "metadata": {},
   "outputs": [],
   "source": [
    "df_agrupado.write.mode(\"overwrite\").parquet(\"../../datalake/gold/consumo_combustiveis_ano\")"
   ]
  }
 ],
 "metadata": {
  "kernelspec": {
   "display_name": ".venv",
   "language": "python",
   "name": "python3"
  },
  "language_info": {
   "codemirror_mode": {
    "name": "ipython",
    "version": 3
   },
   "file_extension": ".py",
   "mimetype": "text/x-python",
   "name": "python",
   "nbconvert_exporter": "python",
   "pygments_lexer": "ipython3",
   "version": "3.12.3"
  }
 },
 "nbformat": 4,
 "nbformat_minor": 5
}
