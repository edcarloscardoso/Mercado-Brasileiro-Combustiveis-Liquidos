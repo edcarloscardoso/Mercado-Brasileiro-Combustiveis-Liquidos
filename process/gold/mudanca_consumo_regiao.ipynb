{
 "cells": [
  {
   "cell_type": "markdown",
   "id": "f61dabea",
   "metadata": {},
   "source": [
    "Mudanças no Consumo por Região ao Longo do Tempo"
   ]
  },
  {
   "cell_type": "code",
   "execution_count": 6,
   "id": "2cdd75e6",
   "metadata": {},
   "outputs": [],
   "source": [
    "from pyspark.sql import SparkSession\n",
    "from pyspark.sql.functions import col, sum\n",
    "from pyspark.sql.functions import regexp_replace, col\n",
    "\n",
    "spark = SparkSession.builder \\\n",
    "    .appName(\"ConsumoPorRegiao\") \\\n",
    "    .getOrCreate()"
   ]
  },
  {
   "cell_type": "code",
   "execution_count": 7,
   "id": "759010ee",
   "metadata": {},
   "outputs": [],
   "source": [
    "df_vendas_atual = spark.read.parquet(\"../../datalake/silver/Liquidos_Vendas_Atual\")"
   ]
  },
  {
   "cell_type": "code",
   "execution_count": 8,
   "id": "a2322837",
   "metadata": {},
   "outputs": [],
   "source": [
    "df_vendas_atual = df_vendas_atual.withColumn(\n",
    "    \"quantidade_de_produto_(mil_m3)\",\n",
    "    regexp_replace(\"quantidade_de_produto_(mil_m3)\", \",\", \".\").cast(\"double\")\n",
    ")"
   ]
  },
  {
   "cell_type": "code",
   "execution_count": 9,
   "id": "67d9df9c",
   "metadata": {},
   "outputs": [
    {
     "name": "stdout",
     "output_type": "stream",
     "text": [
      "+----------+---------------------+\n",
      "|uf_destino|volume_total_(mil_m3)|\n",
      "+----------+---------------------+\n",
      "|        SP|    259378.8472289994|\n",
      "|        MG|   115110.90283499996|\n",
      "|        PR|    85035.09810300011|\n",
      "|        RS|    62012.21745100026|\n",
      "|        BA|     50848.5593370005|\n",
      "|        GO|    50027.79802700086|\n",
      "|        SC|   48638.686370000505|\n",
      "|        RJ|   44269.873204000294|\n",
      "|        MT|    40423.03944900033|\n",
      "|        PA|    37357.05099100023|\n",
      "|        PE|   27226.471624000285|\n",
      "|        MA|   24921.451695000138|\n",
      "|        CE|   22009.600614000206|\n",
      "|        MS|   21575.763193000057|\n",
      "|        ES|   19169.090615000125|\n",
      "|        AM|   14614.327326000044|\n",
      "|        DF|    13078.76899900003|\n",
      "|        TO|   12926.388347000038|\n",
      "|        PB|   11827.744895000045|\n",
      "|        RO|   11548.004939999999|\n",
      "+----------+---------------------+\n",
      "only showing top 20 rows\n"
     ]
    }
   ],
   "source": [
    "ranking_estados = df_vendas_atual.groupBy(\"uf_destino\") \\\n",
    "    .agg(sum(\"quantidade_de_produto_(mil_m3)\").alias(\"volume_total_(mil_m3)\")) \\\n",
    "    .orderBy(col(\"volume_total_(mil_m3)\").desc())\n",
    "\n",
    "ranking_estados.show()"
   ]
  },
  {
   "cell_type": "code",
   "execution_count": 10,
   "id": "0e643477",
   "metadata": {},
   "outputs": [
    {
     "name": "stderr",
     "output_type": "stream",
     "text": [
      "[Stage 6:>                                                          (0 + 8) / 8]\r"
     ]
    },
    {
     "name": "stdout",
     "output_type": "stream",
     "text": [
      "+---------+----------+---------------------+\n",
      "|uf_origem|uf_destino|volume_total_(mil_m3)|\n",
      "+---------+----------+---------------------+\n",
      "|       SP|        SP|    257832.4173899994|\n",
      "|       MG|        MG|    94367.65813800006|\n",
      "|       PR|        PR|     84335.3453140001|\n",
      "|       RS|        RS|   61829.702941000185|\n",
      "|       BA|        BA|    49918.17240800019|\n",
      "|       GO|        GO|   45721.698671000384|\n",
      "|       RJ|        RJ|   43735.663893000215|\n",
      "|       SC|        SC|    40706.72650600013|\n",
      "|       MT|        MT|    34394.85501400011|\n",
      "|       PA|        PA|    34323.57635900008|\n",
      "|       PE|        PE|   25988.348110000108|\n",
      "|       MA|        MA|    24615.86661000007|\n",
      "|       CE|        CE|    18957.95149400005|\n",
      "|       ES|        ES|    17888.63450400003|\n",
      "|       MS|        MS|    16549.56698400001|\n",
      "|       AM|        AM|   13945.034194000005|\n",
      "|       DF|        DF|   12721.474400000021|\n",
      "|       SP|        MG|   11756.270066000014|\n",
      "|       RO|        RO|         11483.211751|\n",
      "|       PB|        PB|    9952.090577000004|\n",
      "+---------+----------+---------------------+\n",
      "only showing top 20 rows\n"
     ]
    },
    {
     "name": "stderr",
     "output_type": "stream",
     "text": [
      "                                                                                \r"
     ]
    }
   ],
   "source": [
    "polos_distribuicao_consumo = df_vendas_atual.groupBy(\"uf_origem\", \"uf_destino\") \\\n",
    "    .agg(sum(\"quantidade_de_produto_(mil_m3)\").alias(\"volume_total_(mil_m3)\")) \\\n",
    "    .orderBy(col(\"volume_total_(mil_m3)\").desc())\n",
    "\n",
    "polos_distribuicao_consumo.show()"
   ]
  },
  {
   "cell_type": "code",
   "execution_count": 12,
   "id": "b82509b1",
   "metadata": {},
   "outputs": [
    {
     "name": "stdout",
     "output_type": "stream",
     "text": [
      "+----+----------+---------------------+\n",
      "| ano|uf_destino|volume_total_(mil_m3)|\n",
      "+----+----------+---------------------+\n",
      "|2017|        SP|   30245.838844000045|\n",
      "|2017|        MG|   12989.312391000016|\n",
      "|2017|        PR|    9583.654475999996|\n",
      "|2017|        RS|    7230.573206999993|\n",
      "|2017|        BA|    5869.082703999992|\n",
      "|2017|        GO|    5407.690431999988|\n",
      "|2017|        RJ|    5403.513036999995|\n",
      "|2017|        SC|   5366.1512689999945|\n",
      "|2017|        PA|    4258.196008999997|\n",
      "|2017|        MT|   4005.4697439999977|\n",
      "|2017|        PE|    3416.910594999999|\n",
      "|2017|        MA|    2770.258344999998|\n",
      "|2017|        CE|   2509.1126599999975|\n",
      "|2017|        MS|   2118.6339609999995|\n",
      "|2017|        ES|   2092.1087399999988|\n",
      "|2017|        AM|   1755.5556749999992|\n",
      "|2017|        DF|   1632.7742669999996|\n",
      "|2017|        PB|   1533.6921139999993|\n",
      "|2017|        TO|   1318.1686889999996|\n",
      "|2017|        RO|   1277.5953570000001|\n",
      "+----+----------+---------------------+\n",
      "only showing top 20 rows\n"
     ]
    }
   ],
   "source": [
    "consumo_por_ano_estado = df_vendas_atual.groupBy(\"ano\", \"uf_destino\") \\\n",
    "    .agg(sum(\"quantidade_de_produto_(mil_m3)\").alias(\"volume_total_(mil_m3)\")) \\\n",
    "    .orderBy(\"ano\", col(\"volume_total_(mil_m3)\").desc())\n",
    "\n",
    "consumo_por_ano_estado.show()"
   ]
  },
  {
   "cell_type": "code",
   "execution_count": 13,
   "id": "719b0645",
   "metadata": {},
   "outputs": [],
   "source": [
    "ranking_estados.write.mode(\"overwrite\").parquet(\"../../datalake/gold/ranking_estados\")\n",
    "polos_distribuicao_consumo.write.mode(\"overwrite\").parquet(\"../../datalake/gold/polos_distribuicao_consumo\")\n",
    "consumo_por_ano_estado.write.mode(\"overwrite\").parquet(\"../../datalake/gold/consumo_por_ano_estado\")"
   ]
  }
 ],
 "metadata": {
  "kernelspec": {
   "display_name": ".venv",
   "language": "python",
   "name": "python3"
  },
  "language_info": {
   "codemirror_mode": {
    "name": "ipython",
    "version": 3
   },
   "file_extension": ".py",
   "mimetype": "text/x-python",
   "name": "python",
   "nbconvert_exporter": "python",
   "pygments_lexer": "ipython3",
   "version": "3.12.3"
  }
 },
 "nbformat": 4,
 "nbformat_minor": 5
}
