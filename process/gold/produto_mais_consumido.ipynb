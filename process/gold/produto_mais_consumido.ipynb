{
 "cells": [
  {
   "cell_type": "markdown",
   "id": "25f69071",
   "metadata": {},
   "source": [
    "Qual é o produto mais consumido?"
   ]
  },
  {
   "cell_type": "code",
   "execution_count": 13,
   "id": "08923e07",
   "metadata": {},
   "outputs": [],
   "source": [
    "from pyspark.sql import SparkSession\n",
    "from pyspark.sql.functions import regexp_replace, col, sum\n",
    "\n",
    "spark = SparkSession.builder \\\n",
    "    .appName(\"RankingProdutos\") \\\n",
    "    .getOrCreate()"
   ]
  },
  {
   "cell_type": "code",
   "execution_count": 14,
   "id": "006bf5db",
   "metadata": {},
   "outputs": [],
   "source": [
    "df_vendas_atual = spark.read.parquet(\"../../datalake/silver/Liquidos_Vendas_Atual\")"
   ]
  },
  {
   "cell_type": "code",
   "execution_count": 15,
   "id": "eeccabd2",
   "metadata": {},
   "outputs": [],
   "source": [
    "df_vendas_atual = df_vendas_atual.withColumn(\n",
    "    \"quantidade_de_produto_(mil_m3)\",\n",
    "    regexp_replace(\"quantidade_de_produto_(mil_m3)\", \",\", \".\").cast(\"double\")\n",
    ")"
   ]
  },
  {
   "cell_type": "code",
   "execution_count": 16,
   "id": "d5ef4fa8",
   "metadata": {},
   "outputs": [
    {
     "name": "stdout",
     "output_type": "stream",
     "text": [
      "+----------------+-------------------------+\n",
      "|nome_do_produto |quantidade_total_(mil_m3)|\n",
      "+----------------+-------------------------+\n",
      "|Diesel B        |505312.9506719748        |\n",
      "|Gasolina C      |344083.4166619903        |\n",
      "|Etanol Hidratado|152310.2439409996        |\n",
      "|Óleo Comb.      |18916.003599999996       |\n",
      "+----------------+-------------------------+\n",
      "\n"
     ]
    }
   ],
   "source": [
    "ranking_produtos = df_vendas_atual.groupBy(\"nome_do_produto\") \\\n",
    "    .agg(sum(\"quantidade_de_produto_(mil_m3)\").alias(\"quantidade_total_(mil_m3)\")) \\\n",
    "    .orderBy(col(\"quantidade_total_(mil_m3)\").desc())\n",
    "\n",
    "ranking_produtos.show(truncate=False)"
   ]
  },
  {
   "cell_type": "code",
   "execution_count": 17,
   "id": "5966956d",
   "metadata": {},
   "outputs": [],
   "source": [
    "ranking_produtos.write.mode(\"overwrite\").parquet(\"../../datalake/gold/Liquidos_Ranking_Produtos\")"
   ]
  }
 ],
 "metadata": {
  "kernelspec": {
   "display_name": ".venv",
   "language": "python",
   "name": "python3"
  },
  "language_info": {
   "codemirror_mode": {
    "name": "ipython",
    "version": 3
   },
   "file_extension": ".py",
   "mimetype": "text/x-python",
   "name": "python",
   "nbconvert_exporter": "python",
   "pygments_lexer": "ipython3",
   "version": "3.12.3"
  }
 },
 "nbformat": 4,
 "nbformat_minor": 5
}
