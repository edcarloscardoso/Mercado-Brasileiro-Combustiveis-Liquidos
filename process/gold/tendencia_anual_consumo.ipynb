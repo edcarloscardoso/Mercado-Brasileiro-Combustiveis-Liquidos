{
 "cells": [
  {
   "cell_type": "markdown",
   "id": "e68d5739",
   "metadata": {},
   "source": [
    "Tendencia anual de consumo"
   ]
  },
  {
   "cell_type": "code",
   "execution_count": 1,
   "id": "b33737b7",
   "metadata": {},
   "outputs": [
    {
     "name": "stderr",
     "output_type": "stream",
     "text": [
      "WARNING: Using incubator modules: jdk.incubator.vector\n",
      "Using Spark's default log4j profile: org/apache/spark/log4j2-defaults.properties\n",
      "25/06/17 18:49:26 WARN Utils: Your hostname, DESKTOP-EDEM2DH, resolves to a loopback address: 127.0.1.1; using 10.255.255.254 instead (on interface lo)\n",
      "25/06/17 18:49:26 WARN Utils: Set SPARK_LOCAL_IP if you need to bind to another address\n",
      "Using Spark's default log4j profile: org/apache/spark/log4j2-defaults.properties\n",
      "Setting default log level to \"WARN\".\n",
      "To adjust logging level use sc.setLogLevel(newLevel). For SparkR, use setLogLevel(newLevel).\n",
      "25/06/17 18:49:26 WARN NativeCodeLoader: Unable to load native-hadoop library for your platform... using builtin-java classes where applicable\n"
     ]
    }
   ],
   "source": [
    "from pyspark.sql import SparkSession\n",
    "from pyspark.sql.functions import regexp_replace, col, sum, year, month\n",
    "\n",
    "spark = SparkSession.builder \\\n",
    "    .appName(\"RankingProdutos\") \\\n",
    "    .getOrCreate()"
   ]
  },
  {
   "cell_type": "code",
   "execution_count": 2,
   "id": "70c259d2",
   "metadata": {},
   "outputs": [],
   "source": [
    "df_atual = spark.read.parquet(\"../../datalake/silver/Liquidos_Vendas_Atual\")\n",
    "df_historico = spark.read.parquet(\"../../datalake/silver/Liquidos_Vendas_Historico_2007_a_2017\")\n"
   ]
  },
  {
   "cell_type": "code",
   "execution_count": 3,
   "id": "3db9732c",
   "metadata": {},
   "outputs": [],
   "source": [
    "df_atual_sel = df_atual.select(\n",
    "    col(\"ano\").cast(\"int\").alias(\"ano\"),\n",
    "    regexp_replace(\"quantidade_de_produto_(mil_m3)\", \",\", \".\")\n",
    "        .cast(\"double\").alias(\"quantidade\")\n",
    ")\n",
    "\n",
    "df_historico_sel = df_historico.select(\n",
    "    col(\"ano\").cast(\"int\").alias(\"ano\"),\n",
    "    regexp_replace(\"volume_vendido\", \",\", \".\")\n",
    "        .cast(\"double\").alias(\"quantidade\")\n",
    ")\n",
    "\n",
    "df_vendas = df_atual_sel.unionByName(df_historico_sel)\n",
    "\n",
    "df_anual = df_vendas.groupBy(\"ano\").agg(sum(\"quantidade\").alias(\"volume_total\"))"
   ]
  },
  {
   "cell_type": "code",
   "execution_count": 4,
   "id": "ea5a195c",
   "metadata": {},
   "outputs": [
    {
     "name": "stderr",
     "output_type": "stream",
     "text": [
      "                                                                                \r"
     ]
    }
   ],
   "source": [
    "df_anual.write.mode(\"overwrite\").parquet(\"../../datalake/gold/tendenia_anual_consumo\")"
   ]
  }
 ],
 "metadata": {
  "kernelspec": {
   "display_name": ".venv",
   "language": "python",
   "name": "python3"
  },
  "language_info": {
   "codemirror_mode": {
    "name": "ipython",
    "version": 3
   },
   "file_extension": ".py",
   "mimetype": "text/x-python",
   "name": "python",
   "nbconvert_exporter": "python",
   "pygments_lexer": "ipython3",
   "version": "3.12.3"
  }
 },
 "nbformat": 4,
 "nbformat_minor": 5
}
