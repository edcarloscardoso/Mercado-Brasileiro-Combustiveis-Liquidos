{
 "cells": [
  {
   "cell_type": "code",
   "execution_count": 6,
   "id": "f19d310a",
   "metadata": {},
   "outputs": [],
   "source": [
    "import requests\n",
    "import zipfile\n",
    "import os\n",
    "import urllib3"
   ]
  },
  {
   "cell_type": "code",
   "execution_count": null,
   "id": "f58c15e9",
   "metadata": {},
   "outputs": [],
   "source": [
    "urllib3.disable_warnings(urllib3.exceptions.InsecureRequestWarning)\n",
    "\n",
    "bucket_path = \"../datalake/landing\"\n",
    "os.makedirs(bucket_path, exist_ok=True)\n",
    "\n",
    "parametros = [\n",
    "    (\"https://www.gov.br/anp/pt-br/centrais-de-conteudo/paineis-dinamicos-da-anp/paineis-dinamicos-do-abastecimento/painel-dinamico-dados-liquidos.zip\", \"dados_liquidos.zip\")\n",
    "]\n",
    "\n",
    "for url, nome_arquivo in parametros:\n",
    "    caminho_zip = os.path.join(bucket_path, nome_arquivo)\n",
    "\n",
    "    with requests.Session() as session:\n",
    "        response = session.get(url, verify=False)  # Ignorando verificação SSL\n",
    "        with open(caminho_zip, \"wb\") as f:\n",
    "            f.write(response.content)\n",
    "\n",
    "    with zipfile.ZipFile(caminho_zip, 'r') as zip_ref:\n",
    "        zip_ref.extractall(bucket_path)\n"
   ]
  }
 ],
 "metadata": {
  "kernelspec": {
   "display_name": ".venv",
   "language": "python",
   "name": "python3"
  },
  "language_info": {
   "codemirror_mode": {
    "name": "ipython",
    "version": 3
   },
   "file_extension": ".py",
   "mimetype": "text/x-python",
   "name": "python",
   "nbconvert_exporter": "python",
   "pygments_lexer": "ipython3",
   "version": "3.12.3"
  }
 },
 "nbformat": 4,
 "nbformat_minor": 5
}
